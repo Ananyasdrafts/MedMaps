{
  "nbformat": 4,
  "nbformat_minor": 0,
  "metadata": {
    "colab": {
      "provenance": []
    },
    "kernelspec": {
      "name": "python3",
      "display_name": "Python 3"
    },
    "language_info": {
      "name": "python"
    }
  },
  "cells": [
    {
      "cell_type": "code",
      "execution_count": 2,
      "metadata": {
        "colab": {
          "base_uri": "https://localhost:8080/"
        },
        "id": "2bzAoEF3Ajv0",
        "outputId": "945746bb-297e-4e61-91d6-018f5262896d"
      },
      "outputs": [
        {
          "output_type": "stream",
          "name": "stdout",
          "text": [
            "Requirement already satisfied: scikit-learn in /usr/local/lib/python3.10/dist-packages (1.2.2)\n",
            "Requirement already satisfied: numpy>=1.17.3 in /usr/local/lib/python3.10/dist-packages (from scikit-learn) (1.25.2)\n",
            "Requirement already satisfied: scipy>=1.3.2 in /usr/local/lib/python3.10/dist-packages (from scikit-learn) (1.11.4)\n",
            "Requirement already satisfied: joblib>=1.1.1 in /usr/local/lib/python3.10/dist-packages (from scikit-learn) (1.3.2)\n",
            "Requirement already satisfied: threadpoolctl>=2.0.0 in /usr/local/lib/python3.10/dist-packages (from scikit-learn) (3.3.0)\n",
            "Requirement already satisfied: pandas in /usr/local/lib/python3.10/dist-packages (1.5.3)\n",
            "Requirement already satisfied: python-dateutil>=2.8.1 in /usr/local/lib/python3.10/dist-packages (from pandas) (2.8.2)\n",
            "Requirement already satisfied: pytz>=2020.1 in /usr/local/lib/python3.10/dist-packages (from pandas) (2023.4)\n",
            "Requirement already satisfied: numpy>=1.21.0 in /usr/local/lib/python3.10/dist-packages (from pandas) (1.25.2)\n",
            "Requirement already satisfied: six>=1.5 in /usr/local/lib/python3.10/dist-packages (from python-dateutil>=2.8.1->pandas) (1.16.0)\n"
          ]
        }
      ],
      "source": [
        "!pip install scikit-learn\n",
        "!pip install pandas"
      ]
    },
    {
      "cell_type": "code",
      "source": [
        "import pandas as pd\n",
        "from random import randrange\n",
        "import datetime\n",
        "\n",
        "def random_date(start, l):\n",
        "    current = start\n",
        "    date_list = []\n",
        "    while l >= 0:\n",
        "        curr = current + datetime.timedelta(minutes=randrange(60))\n",
        "        date_list.append(curr.date())  # Extract only the date part\n",
        "        l -= 1\n",
        "    return date_list\n",
        "\n",
        "startDate = datetime.datetime(2013, 9, 20, 13, 00)\n",
        "date_list = random_date(startDate, 1025)\n",
        "\n",
        "\n",
        "df = pd.DataFrame(date_list, columns=['Date'])\n",
        "\n",
        "\n",
        "print(df)\n",
        "\n"
      ],
      "metadata": {
        "colab": {
          "base_uri": "https://localhost:8080/"
        },
        "id": "kASyXMvaXq6o",
        "outputId": "d466588a-5c5e-4866-abef-8bbfa047003c"
      },
      "execution_count": 6,
      "outputs": [
        {
          "output_type": "stream",
          "name": "stdout",
          "text": [
            "            Date\n",
            "0     2013-09-20\n",
            "1     2013-09-20\n",
            "2     2013-09-20\n",
            "3     2013-09-20\n",
            "4     2013-09-20\n",
            "...          ...\n",
            "1021  2013-09-20\n",
            "1022  2013-09-20\n",
            "1023  2013-09-20\n",
            "1024  2013-09-20\n",
            "1025  2013-09-20\n",
            "\n",
            "[1026 rows x 1 columns]\n"
          ]
        }
      ]
    },
    {
      "cell_type": "code",
      "source": [
        "import pandas as pd\n",
        "\n",
        "train1 = pd.read_csv('train.csv')\n",
        "test1 = pd.read_csv('test.csv')\n",
        "\n",
        "train2 = train1.iloc[:, :7].join(train1.iloc[:, -1])\n",
        "test2 = test1.iloc[:, :7].join(test1.iloc[:, -1])\n",
        "\n",
        "\n",
        "train = pd.concat([df['Date'], train2], axis=1)\n",
        "\n",
        "\n"
      ],
      "metadata": {
        "id": "9GaySuiJKse9"
      },
      "execution_count": 8,
      "outputs": []
    },
    {
      "cell_type": "code",
      "source": [
        "import pandas as pd\n",
        "from random import randrange\n",
        "import datetime\n",
        "\n",
        "def random_date(start, l):\n",
        "    current = start\n",
        "    date_list = []\n",
        "    while l >= 0:\n",
        "        curr = current + datetime.timedelta(minutes=randrange(60))\n",
        "        date_list.append(curr.date())  # Extract only the date part\n",
        "        l -= 1\n",
        "    return date_list\n",
        "\n",
        "startDate = datetime.datetime(2015, 8, 20, 13, 00)\n",
        "date_list = random_date(startDate, 303)\n",
        "\n",
        "\n",
        "df2 = pd.DataFrame(date_list, columns=['Date'])\n",
        "\n",
        "test = pd.concat([df2['Date'], test2], axis=1)"
      ],
      "metadata": {
        "id": "lQAqe8sjZo3x"
      },
      "execution_count": 10,
      "outputs": []
    },
    {
      "cell_type": "code",
      "source": [
        "from sklearn.preprocessing import StandardScaler\n",
        "\n",
        "X_train = train2.drop('target', axis=1)\n",
        "y_train = train2['target']\n",
        "X_test = test2.drop('target', axis=1)\n",
        "y_test = test2['target']\n",
        "\n",
        "\n",
        "scaler = StandardScaler()\n",
        "X_train = scaler.fit_transform(X_train)\n",
        "X_test = scaler.transform(X_test)\n",
        "\n",
        "from sklearn.ensemble import RandomForestClassifier\n",
        "\n",
        "model = RandomForestClassifier(n_estimators=100, random_state=42)\n",
        "\n",
        "model.fit(X_train, y_train)\n",
        "\n",
        "from sklearn.metrics import accuracy_score, classification_report\n",
        "\n",
        "# Make predictions on the test set\n",
        "y_pred = model.predict(X_test)\n",
        "\n",
        "# Evaluate model performance\n",
        "print(\"Accuracy:\", accuracy_score(y_test, y_pred))\n",
        "print(\"Classification Report:\\n\", classification_report(y_test, y_pred))\n",
        "\n",
        "\n"
      ],
      "metadata": {
        "colab": {
          "base_uri": "https://localhost:8080/"
        },
        "id": "5KLMq9_SMct_",
        "outputId": "f1a1d97c-234e-4d88-dfa5-f31dc7a53d18"
      },
      "execution_count": 12,
      "outputs": [
        {
          "output_type": "stream",
          "name": "stdout",
          "text": [
            "Accuracy: 1.0\n",
            "Classification Report:\n",
            "               precision    recall  f1-score   support\n",
            "\n",
            "           0       1.00      1.00      1.00       138\n",
            "           1       1.00      1.00      1.00       165\n",
            "\n",
            "    accuracy                           1.00       303\n",
            "   macro avg       1.00      1.00      1.00       303\n",
            "weighted avg       1.00      1.00      1.00       303\n",
            "\n"
          ]
        }
      ]
    },
    {
      "cell_type": "code",
      "source": [
        "today_data = train2.iloc[-5]  # Assuming the dataset is ordered by date\n",
        "\n",
        "# Check for heart attack prediction\n",
        "heart_attack_prediction = model.predict_proba([today_data.drop('target')])[0, 1]\n",
        "if heart_attack_prediction > 0.1:\n",
        "    print(\"Trigger appointment for heart attack prediction.\")\n",
        "else:\n",
        "  print('no')"
      ],
      "metadata": {
        "colab": {
          "base_uri": "https://localhost:8080/"
        },
        "id": "ArXXbFuQYITh",
        "outputId": "37fa5210-25ca-490c-dd48-6e57c89d9f7d"
      },
      "execution_count": 13,
      "outputs": [
        {
          "output_type": "stream",
          "name": "stdout",
          "text": [
            "Trigger appointment for heart attack prediction.\n"
          ]
        }
      ]
    },
    {
      "cell_type": "code",
      "source": [
        "past_three_days_data = train.iloc[-window_size:]\n",
        "\n",
        "# Check if cholesterol has been consistently dropping or rising over the last three days\n",
        "if all(past_three_days_data['chol'].diff().dropna() > 240):\n",
        "    print(\"Trigger appointment for rising chol trend.\")\n",
        "elif all(past_three_days_data['chol'].diff().dropna() < 200):\n",
        "    print(\"Trigger appointment for falling chol trend.\")"
      ],
      "metadata": {
        "id": "8FM91dwb091E"
      },
      "execution_count": null,
      "outputs": []
    },
    {
      "cell_type": "code",
      "source": [
        "past_three_days_data = train.iloc[-window_size:]\n",
        "\n",
        "# Check if cholesterol has been consistently dropping or rising over the last three days\n",
        "if all(past_three_days_data['trestbps'].diff().dropna() > 0):\n",
        "    print(\"Trigger appointment for rising trestbps trend.\")\n",
        "elif all(past_three_days_data['trestbps'].diff().dropna() < 0):\n",
        "    print(\"Trigger appointment for falling trestbps trend.\")"
      ],
      "metadata": {
        "id": "6KBh3ftD1Bt9"
      },
      "execution_count": null,
      "outputs": []
    },
    {
      "cell_type": "code",
      "source": [
        "past_three_days_data = train.iloc[-window_size:]\n",
        "\n",
        "# Check if cholesterol has been consistently dropping or rising over the last three days\n",
        "if all(past_three_days_data['restecg'].diff().dropna() > 0):\n",
        "    print(\"Trigger appointment for rising restecg trend.\")\n",
        "elif all(past_three_days_data['restecg'].diff().dropna() < 0):\n",
        "    print(\"Trigger appointment for falling restecg trend.\")"
      ],
      "metadata": {
        "id": "dLHOG4pP2btK"
      },
      "execution_count": null,
      "outputs": []
    },
    {
      "cell_type": "code",
      "source": [],
      "metadata": {
        "id": "R9tCnFBb9rjG"
      },
      "execution_count": null,
      "outputs": []
    }
  ]
}