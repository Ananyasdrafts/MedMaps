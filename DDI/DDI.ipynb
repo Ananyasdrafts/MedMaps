{
  "nbformat": 4,
  "nbformat_minor": 0,
  "metadata": {
    "colab": {
      "provenance": []
    },
    "kernelspec": {
      "name": "python3",
      "display_name": "Python 3"
    },
    "language_info": {
      "name": "python"
    }
  },
  "cells": [
    {
      "cell_type": "code",
      "source": [
        "!pip install pandas"
      ],
      "metadata": {
        "colab": {
          "base_uri": "https://localhost:8080/"
        },
        "id": "t2s4mKooJ_7W",
        "outputId": "816c61c3-1b15-472f-ecab-ca3b098c48b0"
      },
      "execution_count": null,
      "outputs": [
        {
          "output_type": "stream",
          "name": "stdout",
          "text": [
            "Requirement already satisfied: pandas in /usr/local/lib/python3.10/dist-packages (1.5.3)\n",
            "Requirement already satisfied: python-dateutil>=2.8.1 in /usr/local/lib/python3.10/dist-packages (from pandas) (2.8.2)\n",
            "Requirement already satisfied: pytz>=2020.1 in /usr/local/lib/python3.10/dist-packages (from pandas) (2023.4)\n",
            "Requirement already satisfied: numpy>=1.21.0 in /usr/local/lib/python3.10/dist-packages (from pandas) (1.25.2)\n",
            "Requirement already satisfied: six>=1.5 in /usr/local/lib/python3.10/dist-packages (from python-dateutil>=2.8.1->pandas) (1.16.0)\n"
          ]
        }
      ]
    },
    {
      "cell_type": "code",
      "execution_count": null,
      "metadata": {
        "colab": {
          "base_uri": "https://localhost:8080/"
        },
        "id": "wdN8DuBB0m4z",
        "outputId": "dfbe0206-af57-4483-c236-42de73c7e74b"
      },
      "outputs": [
        {
          "output_type": "stream",
          "name": "stderr",
          "text": [
            "<ipython-input-3-dbfbb63bc53f>:4: DtypeWarning: Columns (0,1,2) have mixed types. Specify dtype option on import or set low_memory=False.\n",
            "  dataset = pd.read_csv('drugInteractions.csv')\n"
          ]
        },
        {
          "output_type": "stream",
          "name": "stdout",
          "text": [
            "Warning: Potential interactions found - the anticoagulant activities\n"
          ]
        }
      ],
      "source": [
        "import pandas as pd\n",
        "\n",
        "\n",
        "dataset = pd.read_csv('drugInteractions.csv')\n",
        "\n",
        "def check_medication_interaction(med_list_a, med_list_b):\n",
        "\n",
        "    interactions = dataset[(dataset['drugA'].isin(med_list_a) & dataset['drugB'].isin(med_list_b)) |\n",
        "                            (dataset['drugA'].isin(med_list_b) & dataset['drugB'].isin(med_list_a))]\n",
        "\n",
        "    if not interactions.empty:\n",
        "        return f\"Warning: Potential interactions found - {', '.join(interactions['mechanism'])}\"\n",
        "    else:\n",
        "        return \"No conflicts found\"\n",
        "\n"
      ]
    },
    {
      "cell_type": "code",
      "source": [
        "med_list_a = ['Bivalirudin', 'MedA2']\n",
        "med_list_b = ['Apixaban', 'MedB2']\n",
        "\n",
        "result = check_medication_interaction(med_list_a, med_list_b)\n",
        "print(result)\n"
      ],
      "metadata": {
        "id": "9lXT5zN9LqDk"
      },
      "execution_count": null,
      "outputs": []
    }
  ]
}